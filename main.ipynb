{
 "cells": [
  {
   "cell_type": "markdown",
   "source": [
    "# Essential modules"
   ],
   "metadata": {
    "collapsed": false
   },
   "id": "14f117d4449f3d93"
  },
  {
   "cell_type": "code",
   "outputs": [
    {
     "ename": "ImportError",
     "evalue": "No module named 'sklearn.__check_build._check_build'\n___________________________________________________________________________\nContents of D:\\M.Sc. Data Science\\Danesh kar\\Python\\Data science and machine learning\\Task 2\\venv\\Lib\\site-packages\\sklearn\\__check_build:\n_check_build.cp311-win_amd64.pyd__init__.py               __pycache__\n___________________________________________________________________________\nIt seems that scikit-learn has not been built correctly.\n\nIf you have installed scikit-learn from source, please do not forget\nto build the package before using it: run `python setup.py install` or\n`make` in the source directory.\n\nIf you have used an installer, please check that it is suited for your\nPython version, your operating system and your platform.",
     "output_type": "error",
     "traceback": [
      "\u001B[1;31m---------------------------------------------------------------------------\u001B[0m",
      "\u001B[1;31mModuleNotFoundError\u001B[0m                       Traceback (most recent call last)",
      "File \u001B[1;32mD:\\M.Sc. Data Science\\Danesh kar\\Python\\Data science and machine learning\\Task 2\\venv\\Lib\\site-packages\\sklearn\\__check_build\\__init__.py:45\u001B[0m\n\u001B[0;32m     44\u001B[0m \u001B[38;5;28;01mtry\u001B[39;00m:\n\u001B[1;32m---> 45\u001B[0m     \u001B[38;5;28;01mfrom\u001B[39;00m \u001B[38;5;21;01m.\u001B[39;00m\u001B[38;5;21;01m_check_build\u001B[39;00m \u001B[38;5;28;01mimport\u001B[39;00m check_build  \u001B[38;5;66;03m# noqa\u001B[39;00m\n\u001B[0;32m     46\u001B[0m \u001B[38;5;28;01mexcept\u001B[39;00m \u001B[38;5;167;01mImportError\u001B[39;00m \u001B[38;5;28;01mas\u001B[39;00m e:\n",
      "\u001B[1;31mModuleNotFoundError\u001B[0m: No module named 'sklearn.__check_build._check_build'",
      "\nDuring handling of the above exception, another exception occurred:\n",
      "\u001B[1;31mImportError\u001B[0m                               Traceback (most recent call last)",
      "Cell \u001B[1;32mIn[4], line 5\u001B[0m\n\u001B[0;32m      3\u001B[0m \u001B[38;5;28;01mimport\u001B[39;00m \u001B[38;5;21;01mjson\u001B[39;00m\n\u001B[0;32m      4\u001B[0m \u001B[38;5;28;01mimport\u001B[39;00m \u001B[38;5;21;01mmatplotlib\u001B[39;00m\u001B[38;5;21;01m.\u001B[39;00m\u001B[38;5;21;01mpyplot\u001B[39;00m \u001B[38;5;28;01mas\u001B[39;00m \u001B[38;5;21;01mplt\u001B[39;00m\n\u001B[1;32m----> 5\u001B[0m \u001B[38;5;28;01mfrom\u001B[39;00m \u001B[38;5;21;01msklearn\u001B[39;00m\u001B[38;5;21;01m.\u001B[39;00m\u001B[38;5;21;01mmodel_selection\u001B[39;00m \u001B[38;5;28;01mimport\u001B[39;00m train_test_split\n\u001B[0;32m      6\u001B[0m \u001B[38;5;28;01mfrom\u001B[39;00m \u001B[38;5;21;01mxgboost\u001B[39;00m \u001B[38;5;28;01mimport\u001B[39;00m XGBClassifier\n\u001B[0;32m      8\u001B[0m \u001B[38;5;66;03m# Warning -> disabled\u001B[39;00m\n",
      "File \u001B[1;32mD:\\M.Sc. Data Science\\Danesh kar\\Python\\Data science and machine learning\\Task 2\\venv\\Lib\\site-packages\\sklearn\\__init__.py:83\u001B[0m\n\u001B[0;32m     72\u001B[0m     sys\u001B[38;5;241m.\u001B[39mstderr\u001B[38;5;241m.\u001B[39mwrite(\u001B[38;5;124m\"\u001B[39m\u001B[38;5;124mPartial import of sklearn during the build process.\u001B[39m\u001B[38;5;130;01m\\n\u001B[39;00m\u001B[38;5;124m\"\u001B[39m)\n\u001B[0;32m     73\u001B[0m     \u001B[38;5;66;03m# We are not importing the rest of scikit-learn during the build\u001B[39;00m\n\u001B[0;32m     74\u001B[0m     \u001B[38;5;66;03m# process, as it may not be compiled yet\u001B[39;00m\n\u001B[0;32m     75\u001B[0m \u001B[38;5;28;01melse\u001B[39;00m:\n\u001B[1;32m   (...)\u001B[0m\n\u001B[0;32m     81\u001B[0m     \u001B[38;5;66;03m# later is linked to the OpenMP runtime to make it possible to introspect\u001B[39;00m\n\u001B[0;32m     82\u001B[0m     \u001B[38;5;66;03m# it and importing it first would fail if the OpenMP dll cannot be found.\u001B[39;00m\n\u001B[1;32m---> 83\u001B[0m     \u001B[38;5;28;01mfrom\u001B[39;00m \u001B[38;5;21;01m.\u001B[39;00m \u001B[38;5;28;01mimport\u001B[39;00m (\n\u001B[0;32m     84\u001B[0m         __check_build,  \u001B[38;5;66;03m# noqa: F401\u001B[39;00m\n\u001B[0;32m     85\u001B[0m         _distributor_init,  \u001B[38;5;66;03m# noqa: F401\u001B[39;00m\n\u001B[0;32m     86\u001B[0m     )\n\u001B[0;32m     87\u001B[0m     \u001B[38;5;28;01mfrom\u001B[39;00m \u001B[38;5;21;01m.\u001B[39;00m\u001B[38;5;21;01mbase\u001B[39;00m \u001B[38;5;28;01mimport\u001B[39;00m clone\n\u001B[0;32m     88\u001B[0m     \u001B[38;5;28;01mfrom\u001B[39;00m \u001B[38;5;21;01m.\u001B[39;00m\u001B[38;5;21;01mutils\u001B[39;00m\u001B[38;5;21;01m.\u001B[39;00m\u001B[38;5;21;01m_show_versions\u001B[39;00m \u001B[38;5;28;01mimport\u001B[39;00m show_versions\n",
      "File \u001B[1;32mD:\\M.Sc. Data Science\\Danesh kar\\Python\\Data science and machine learning\\Task 2\\venv\\Lib\\site-packages\\sklearn\\__check_build\\__init__.py:47\u001B[0m\n\u001B[0;32m     45\u001B[0m     \u001B[38;5;28;01mfrom\u001B[39;00m \u001B[38;5;21;01m.\u001B[39;00m\u001B[38;5;21;01m_check_build\u001B[39;00m \u001B[38;5;28;01mimport\u001B[39;00m check_build  \u001B[38;5;66;03m# noqa\u001B[39;00m\n\u001B[0;32m     46\u001B[0m \u001B[38;5;28;01mexcept\u001B[39;00m \u001B[38;5;167;01mImportError\u001B[39;00m \u001B[38;5;28;01mas\u001B[39;00m e:\n\u001B[1;32m---> 47\u001B[0m     \u001B[43mraise_build_error\u001B[49m\u001B[43m(\u001B[49m\u001B[43me\u001B[49m\u001B[43m)\u001B[49m\n",
      "File \u001B[1;32mD:\\M.Sc. Data Science\\Danesh kar\\Python\\Data science and machine learning\\Task 2\\venv\\Lib\\site-packages\\sklearn\\__check_build\\__init__.py:31\u001B[0m, in \u001B[0;36mraise_build_error\u001B[1;34m(e)\u001B[0m\n\u001B[0;32m     29\u001B[0m         \u001B[38;5;28;01melse\u001B[39;00m:\n\u001B[0;32m     30\u001B[0m             dir_content\u001B[38;5;241m.\u001B[39mappend(filename \u001B[38;5;241m+\u001B[39m \u001B[38;5;124m\"\u001B[39m\u001B[38;5;130;01m\\n\u001B[39;00m\u001B[38;5;124m\"\u001B[39m)\n\u001B[1;32m---> 31\u001B[0m     \u001B[38;5;28;01mraise\u001B[39;00m \u001B[38;5;167;01mImportError\u001B[39;00m(\u001B[38;5;124m\"\"\"\u001B[39m\u001B[38;5;132;01m%s\u001B[39;00m\n\u001B[0;32m     32\u001B[0m \u001B[38;5;124m___________________________________________________________________________\u001B[39m\n\u001B[0;32m     33\u001B[0m \u001B[38;5;124mContents of \u001B[39m\u001B[38;5;132;01m%s\u001B[39;00m\u001B[38;5;124m:\u001B[39m\n\u001B[0;32m     34\u001B[0m \u001B[38;5;132;01m%s\u001B[39;00m\n\u001B[0;32m     35\u001B[0m \u001B[38;5;124m___________________________________________________________________________\u001B[39m\n\u001B[0;32m     36\u001B[0m \u001B[38;5;124mIt seems that scikit-learn has not been built correctly.\u001B[39m\n\u001B[0;32m     37\u001B[0m \n\u001B[0;32m     38\u001B[0m \u001B[38;5;124mIf you have installed scikit-learn from source, please do not forget\u001B[39m\n\u001B[0;32m     39\u001B[0m \u001B[38;5;124mto build the package before using it: run `python setup.py install` or\u001B[39m\n\u001B[0;32m     40\u001B[0m \u001B[38;5;124m`make` in the source directory.\u001B[39m\n\u001B[0;32m     41\u001B[0m \u001B[38;5;132;01m%s\u001B[39;00m\u001B[38;5;124m\"\"\"\u001B[39m \u001B[38;5;241m%\u001B[39m (e, local_dir, \u001B[38;5;124m\"\u001B[39m\u001B[38;5;124m\"\u001B[39m\u001B[38;5;241m.\u001B[39mjoin(dir_content)\u001B[38;5;241m.\u001B[39mstrip(), msg))\n",
      "\u001B[1;31mImportError\u001B[0m: No module named 'sklearn.__check_build._check_build'\n___________________________________________________________________________\nContents of D:\\M.Sc. Data Science\\Danesh kar\\Python\\Data science and machine learning\\Task 2\\venv\\Lib\\site-packages\\sklearn\\__check_build:\n_check_build.cp311-win_amd64.pyd__init__.py               __pycache__\n___________________________________________________________________________\nIt seems that scikit-learn has not been built correctly.\n\nIf you have installed scikit-learn from source, please do not forget\nto build the package before using it: run `python setup.py install` or\n`make` in the source directory.\n\nIf you have used an installer, please check that it is suited for your\nPython version, your operating system and your platform."
     ]
    }
   ],
   "source": [
    "import pandas as pd\n",
    "from dataLoading import *\n",
    "import json\n",
    "import matplotlib.pyplot as plt\n",
    "from sklearn.model_selection import train_test_split\n",
    "from xgboost import XGBClassifier\n",
    "\n",
    "# Warning -> disabled\n",
    "import warnings\n",
    "warnings.filterwarnings(\"ignore\")"
   ],
   "metadata": {
    "collapsed": false,
    "ExecuteTime": {
     "end_time": "2024-03-17T12:12:04.266429Z",
     "start_time": "2024-03-17T12:12:04.235435Z"
    }
   },
   "id": "f86ef148eedb1e7d",
   "execution_count": 4
  },
  {
   "cell_type": "markdown",
   "source": [
    "# Data loading and gain info"
   ],
   "metadata": {
    "collapsed": false
   },
   "id": "9b3ce846774523ec"
  },
  {
   "cell_type": "code",
   "outputs": [],
   "source": [
    "movie_dataset = pd.read_csv('tmdb_5000_movies.csv')\n",
    "credit_dataset = pd.read_csv('tmdb_5000_credits.csv')"
   ],
   "metadata": {
    "collapsed": false,
    "ExecuteTime": {
     "end_time": "2024-03-17T05:39:38.124054Z",
     "start_time": "2024-03-17T05:39:37.814668Z"
    }
   },
   "id": "e1d6156609783e43",
   "execution_count": 2
  },
  {
   "cell_type": "code",
   "outputs": [
    {
     "data": {
      "text/plain": "                                                                      0  \\\nbudget                                                        237000000   \ngenres                [{\"id\": 28, \"name\": \"Action\"}, {\"id\": 12, \"nam...   \nhomepage                                    http://www.avatarmovie.com/   \nid                                                                19995   \nkeywords              [{\"id\": 1463, \"name\": \"culture clash\"}, {\"id\":...   \noriginal_language                                                    en   \noriginal_title                                                   Avatar   \noverview              In the 22nd century, a paraplegic Marine is di...   \npopularity                                                   150.437577   \nproduction_companies  [{\"name\": \"Ingenious Film Partners\", \"id\": 289...   \nproduction_countries  [{\"iso_3166_1\": \"US\", \"name\": \"United States o...   \nrelease_date                                                 2009-12-10   \nrevenue                                                      2787965087   \nruntime                                                           162.0   \nspoken_languages      [{\"iso_639_1\": \"en\", \"name\": \"English\"}, {\"iso...   \nstatus                                                         Released   \ntagline                                     Enter the World of Pandora.   \ntitle                                                            Avatar   \nvote_average                                                        7.2   \nvote_count                                                        11800   \n\n                                                                      1  \\\nbudget                                                        300000000   \ngenres                [{\"id\": 12, \"name\": \"Adventure\"}, {\"id\": 14, \"...   \nhomepage                   http://disney.go.com/disneypictures/pirates/   \nid                                                                  285   \nkeywords              [{\"id\": 270, \"name\": \"ocean\"}, {\"id\": 726, \"na...   \noriginal_language                                                    en   \noriginal_title                 Pirates of the Caribbean: At World's End   \noverview              Captain Barbossa, long believed to be dead, ha...   \npopularity                                                   139.082615   \nproduction_companies  [{\"name\": \"Walt Disney Pictures\", \"id\": 2}, {\"...   \nproduction_countries  [{\"iso_3166_1\": \"US\", \"name\": \"United States o...   \nrelease_date                                                 2007-05-19   \nrevenue                                                       961000000   \nruntime                                                           169.0   \nspoken_languages               [{\"iso_639_1\": \"en\", \"name\": \"English\"}]   \nstatus                                                         Released   \ntagline                  At the end of the world, the adventure begins.   \ntitle                          Pirates of the Caribbean: At World's End   \nvote_average                                                        6.9   \nvote_count                                                         4500   \n\n                                                                      2  \\\nbudget                                                        245000000   \ngenres                [{\"id\": 28, \"name\": \"Action\"}, {\"id\": 12, \"nam...   \nhomepage                    http://www.sonypictures.com/movies/spectre/   \nid                                                               206647   \nkeywords              [{\"id\": 470, \"name\": \"spy\"}, {\"id\": 818, \"name...   \noriginal_language                                                    en   \noriginal_title                                                  Spectre   \noverview              A cryptic message from Bond’s past sends him o...   \npopularity                                                   107.376788   \nproduction_companies  [{\"name\": \"Columbia Pictures\", \"id\": 5}, {\"nam...   \nproduction_countries  [{\"iso_3166_1\": \"GB\", \"name\": \"United Kingdom\"...   \nrelease_date                                                 2015-10-26   \nrevenue                                                       880674609   \nruntime                                                           148.0   \nspoken_languages      [{\"iso_639_1\": \"fr\", \"name\": \"Fran\\u00e7ais\"},...   \nstatus                                                         Released   \ntagline                                           A Plan No One Escapes   \ntitle                                                           Spectre   \nvote_average                                                        6.3   \nvote_count                                                         4466   \n\n                                                                      3  \\\nbudget                                                        250000000   \ngenres                [{\"id\": 28, \"name\": \"Action\"}, {\"id\": 80, \"nam...   \nhomepage                             http://www.thedarkknightrises.com/   \nid                                                                49026   \nkeywords              [{\"id\": 849, \"name\": \"dc comics\"}, {\"id\": 853,...   \noriginal_language                                                    en   \noriginal_title                                    The Dark Knight Rises   \noverview              Following the death of District Attorney Harve...   \npopularity                                                    112.31295   \nproduction_companies  [{\"name\": \"Legendary Pictures\", \"id\": 923}, {\"...   \nproduction_countries  [{\"iso_3166_1\": \"US\", \"name\": \"United States o...   \nrelease_date                                                 2012-07-16   \nrevenue                                                      1084939099   \nruntime                                                           165.0   \nspoken_languages               [{\"iso_639_1\": \"en\", \"name\": \"English\"}]   \nstatus                                                         Released   \ntagline                                                 The Legend Ends   \ntitle                                             The Dark Knight Rises   \nvote_average                                                        7.6   \nvote_count                                                         9106   \n\n                                                                      4  \nbudget                                                        260000000  \ngenres                [{\"id\": 28, \"name\": \"Action\"}, {\"id\": 12, \"nam...  \nhomepage                           http://movies.disney.com/john-carter  \nid                                                                49529  \nkeywords              [{\"id\": 818, \"name\": \"based on novel\"}, {\"id\":...  \noriginal_language                                                    en  \noriginal_title                                              John Carter  \noverview              John Carter is a war-weary, former military ca...  \npopularity                                                    43.926995  \nproduction_companies        [{\"name\": \"Walt Disney Pictures\", \"id\": 2}]  \nproduction_countries  [{\"iso_3166_1\": \"US\", \"name\": \"United States o...  \nrelease_date                                                 2012-03-07  \nrevenue                                                       284139100  \nruntime                                                           132.0  \nspoken_languages               [{\"iso_639_1\": \"en\", \"name\": \"English\"}]  \nstatus                                                         Released  \ntagline                            Lost in our world, found in another.  \ntitle                                                       John Carter  \nvote_average                                                        6.1  \nvote_count                                                         2124  ",
      "text/html": "<div>\n<style scoped>\n    .dataframe tbody tr th:only-of-type {\n        vertical-align: middle;\n    }\n\n    .dataframe tbody tr th {\n        vertical-align: top;\n    }\n\n    .dataframe thead th {\n        text-align: right;\n    }\n</style>\n<table border=\"1\" class=\"dataframe\">\n  <thead>\n    <tr style=\"text-align: right;\">\n      <th></th>\n      <th>0</th>\n      <th>1</th>\n      <th>2</th>\n      <th>3</th>\n      <th>4</th>\n    </tr>\n  </thead>\n  <tbody>\n    <tr>\n      <th>budget</th>\n      <td>237000000</td>\n      <td>300000000</td>\n      <td>245000000</td>\n      <td>250000000</td>\n      <td>260000000</td>\n    </tr>\n    <tr>\n      <th>genres</th>\n      <td>[{\"id\": 28, \"name\": \"Action\"}, {\"id\": 12, \"nam...</td>\n      <td>[{\"id\": 12, \"name\": \"Adventure\"}, {\"id\": 14, \"...</td>\n      <td>[{\"id\": 28, \"name\": \"Action\"}, {\"id\": 12, \"nam...</td>\n      <td>[{\"id\": 28, \"name\": \"Action\"}, {\"id\": 80, \"nam...</td>\n      <td>[{\"id\": 28, \"name\": \"Action\"}, {\"id\": 12, \"nam...</td>\n    </tr>\n    <tr>\n      <th>homepage</th>\n      <td>http://www.avatarmovie.com/</td>\n      <td>http://disney.go.com/disneypictures/pirates/</td>\n      <td>http://www.sonypictures.com/movies/spectre/</td>\n      <td>http://www.thedarkknightrises.com/</td>\n      <td>http://movies.disney.com/john-carter</td>\n    </tr>\n    <tr>\n      <th>id</th>\n      <td>19995</td>\n      <td>285</td>\n      <td>206647</td>\n      <td>49026</td>\n      <td>49529</td>\n    </tr>\n    <tr>\n      <th>keywords</th>\n      <td>[{\"id\": 1463, \"name\": \"culture clash\"}, {\"id\":...</td>\n      <td>[{\"id\": 270, \"name\": \"ocean\"}, {\"id\": 726, \"na...</td>\n      <td>[{\"id\": 470, \"name\": \"spy\"}, {\"id\": 818, \"name...</td>\n      <td>[{\"id\": 849, \"name\": \"dc comics\"}, {\"id\": 853,...</td>\n      <td>[{\"id\": 818, \"name\": \"based on novel\"}, {\"id\":...</td>\n    </tr>\n    <tr>\n      <th>original_language</th>\n      <td>en</td>\n      <td>en</td>\n      <td>en</td>\n      <td>en</td>\n      <td>en</td>\n    </tr>\n    <tr>\n      <th>original_title</th>\n      <td>Avatar</td>\n      <td>Pirates of the Caribbean: At World's End</td>\n      <td>Spectre</td>\n      <td>The Dark Knight Rises</td>\n      <td>John Carter</td>\n    </tr>\n    <tr>\n      <th>overview</th>\n      <td>In the 22nd century, a paraplegic Marine is di...</td>\n      <td>Captain Barbossa, long believed to be dead, ha...</td>\n      <td>A cryptic message from Bond’s past sends him o...</td>\n      <td>Following the death of District Attorney Harve...</td>\n      <td>John Carter is a war-weary, former military ca...</td>\n    </tr>\n    <tr>\n      <th>popularity</th>\n      <td>150.437577</td>\n      <td>139.082615</td>\n      <td>107.376788</td>\n      <td>112.31295</td>\n      <td>43.926995</td>\n    </tr>\n    <tr>\n      <th>production_companies</th>\n      <td>[{\"name\": \"Ingenious Film Partners\", \"id\": 289...</td>\n      <td>[{\"name\": \"Walt Disney Pictures\", \"id\": 2}, {\"...</td>\n      <td>[{\"name\": \"Columbia Pictures\", \"id\": 5}, {\"nam...</td>\n      <td>[{\"name\": \"Legendary Pictures\", \"id\": 923}, {\"...</td>\n      <td>[{\"name\": \"Walt Disney Pictures\", \"id\": 2}]</td>\n    </tr>\n    <tr>\n      <th>production_countries</th>\n      <td>[{\"iso_3166_1\": \"US\", \"name\": \"United States o...</td>\n      <td>[{\"iso_3166_1\": \"US\", \"name\": \"United States o...</td>\n      <td>[{\"iso_3166_1\": \"GB\", \"name\": \"United Kingdom\"...</td>\n      <td>[{\"iso_3166_1\": \"US\", \"name\": \"United States o...</td>\n      <td>[{\"iso_3166_1\": \"US\", \"name\": \"United States o...</td>\n    </tr>\n    <tr>\n      <th>release_date</th>\n      <td>2009-12-10</td>\n      <td>2007-05-19</td>\n      <td>2015-10-26</td>\n      <td>2012-07-16</td>\n      <td>2012-03-07</td>\n    </tr>\n    <tr>\n      <th>revenue</th>\n      <td>2787965087</td>\n      <td>961000000</td>\n      <td>880674609</td>\n      <td>1084939099</td>\n      <td>284139100</td>\n    </tr>\n    <tr>\n      <th>runtime</th>\n      <td>162.0</td>\n      <td>169.0</td>\n      <td>148.0</td>\n      <td>165.0</td>\n      <td>132.0</td>\n    </tr>\n    <tr>\n      <th>spoken_languages</th>\n      <td>[{\"iso_639_1\": \"en\", \"name\": \"English\"}, {\"iso...</td>\n      <td>[{\"iso_639_1\": \"en\", \"name\": \"English\"}]</td>\n      <td>[{\"iso_639_1\": \"fr\", \"name\": \"Fran\\u00e7ais\"},...</td>\n      <td>[{\"iso_639_1\": \"en\", \"name\": \"English\"}]</td>\n      <td>[{\"iso_639_1\": \"en\", \"name\": \"English\"}]</td>\n    </tr>\n    <tr>\n      <th>status</th>\n      <td>Released</td>\n      <td>Released</td>\n      <td>Released</td>\n      <td>Released</td>\n      <td>Released</td>\n    </tr>\n    <tr>\n      <th>tagline</th>\n      <td>Enter the World of Pandora.</td>\n      <td>At the end of the world, the adventure begins.</td>\n      <td>A Plan No One Escapes</td>\n      <td>The Legend Ends</td>\n      <td>Lost in our world, found in another.</td>\n    </tr>\n    <tr>\n      <th>title</th>\n      <td>Avatar</td>\n      <td>Pirates of the Caribbean: At World's End</td>\n      <td>Spectre</td>\n      <td>The Dark Knight Rises</td>\n      <td>John Carter</td>\n    </tr>\n    <tr>\n      <th>vote_average</th>\n      <td>7.2</td>\n      <td>6.9</td>\n      <td>6.3</td>\n      <td>7.6</td>\n      <td>6.1</td>\n    </tr>\n    <tr>\n      <th>vote_count</th>\n      <td>11800</td>\n      <td>4500</td>\n      <td>4466</td>\n      <td>9106</td>\n      <td>2124</td>\n    </tr>\n  </tbody>\n</table>\n</div>"
     },
     "execution_count": 3,
     "metadata": {},
     "output_type": "execute_result"
    }
   ],
   "source": [
    "movie_dataset.head().T"
   ],
   "metadata": {
    "collapsed": false,
    "ExecuteTime": {
     "end_time": "2024-03-17T05:39:39.241175Z",
     "start_time": "2024-03-17T05:39:39.232874Z"
    }
   },
   "id": "2343b5fe594a2136",
   "execution_count": 3
  },
  {
   "cell_type": "code",
   "outputs": [
    {
     "data": {
      "text/plain": "                                                          0  \\\nmovie_id                                              19995   \ntitle                                                Avatar   \ncast      [{\"cast_id\": 242, \"character\": \"Jake Sully\", \"...   \ncrew      [{\"credit_id\": \"52fe48009251416c750aca23\", \"de...   \n\n                                                          1  \\\nmovie_id                                                285   \ntitle              Pirates of the Caribbean: At World's End   \ncast      [{\"cast_id\": 4, \"character\": \"Captain Jack Spa...   \ncrew      [{\"credit_id\": \"52fe4232c3a36847f800b579\", \"de...   \n\n                                                          2  \\\nmovie_id                                             206647   \ntitle                                               Spectre   \ncast      [{\"cast_id\": 1, \"character\": \"James Bond\", \"cr...   \ncrew      [{\"credit_id\": \"54805967c3a36829b5002c41\", \"de...   \n\n                                                          3  \\\nmovie_id                                              49026   \ntitle                                 The Dark Knight Rises   \ncast      [{\"cast_id\": 2, \"character\": \"Bruce Wayne / Ba...   \ncrew      [{\"credit_id\": \"52fe4781c3a36847f81398c3\", \"de...   \n\n                                                          4  \nmovie_id                                              49529  \ntitle                                           John Carter  \ncast      [{\"cast_id\": 5, \"character\": \"John Carter\", \"c...  \ncrew      [{\"credit_id\": \"52fe479ac3a36847f813eaa3\", \"de...  ",
      "text/html": "<div>\n<style scoped>\n    .dataframe tbody tr th:only-of-type {\n        vertical-align: middle;\n    }\n\n    .dataframe tbody tr th {\n        vertical-align: top;\n    }\n\n    .dataframe thead th {\n        text-align: right;\n    }\n</style>\n<table border=\"1\" class=\"dataframe\">\n  <thead>\n    <tr style=\"text-align: right;\">\n      <th></th>\n      <th>0</th>\n      <th>1</th>\n      <th>2</th>\n      <th>3</th>\n      <th>4</th>\n    </tr>\n  </thead>\n  <tbody>\n    <tr>\n      <th>movie_id</th>\n      <td>19995</td>\n      <td>285</td>\n      <td>206647</td>\n      <td>49026</td>\n      <td>49529</td>\n    </tr>\n    <tr>\n      <th>title</th>\n      <td>Avatar</td>\n      <td>Pirates of the Caribbean: At World's End</td>\n      <td>Spectre</td>\n      <td>The Dark Knight Rises</td>\n      <td>John Carter</td>\n    </tr>\n    <tr>\n      <th>cast</th>\n      <td>[{\"cast_id\": 242, \"character\": \"Jake Sully\", \"...</td>\n      <td>[{\"cast_id\": 4, \"character\": \"Captain Jack Spa...</td>\n      <td>[{\"cast_id\": 1, \"character\": \"James Bond\", \"cr...</td>\n      <td>[{\"cast_id\": 2, \"character\": \"Bruce Wayne / Ba...</td>\n      <td>[{\"cast_id\": 5, \"character\": \"John Carter\", \"c...</td>\n    </tr>\n    <tr>\n      <th>crew</th>\n      <td>[{\"credit_id\": \"52fe48009251416c750aca23\", \"de...</td>\n      <td>[{\"credit_id\": \"52fe4232c3a36847f800b579\", \"de...</td>\n      <td>[{\"credit_id\": \"54805967c3a36829b5002c41\", \"de...</td>\n      <td>[{\"credit_id\": \"52fe4781c3a36847f81398c3\", \"de...</td>\n      <td>[{\"credit_id\": \"52fe479ac3a36847f813eaa3\", \"de...</td>\n    </tr>\n  </tbody>\n</table>\n</div>"
     },
     "execution_count": 4,
     "metadata": {},
     "output_type": "execute_result"
    }
   ],
   "source": [
    "credit_dataset.head().T"
   ],
   "metadata": {
    "collapsed": false,
    "ExecuteTime": {
     "end_time": "2024-03-17T05:39:39.847036Z",
     "start_time": "2024-03-17T05:39:39.840681Z"
    }
   },
   "id": "9ecc70346115aaa9",
   "execution_count": 4
  },
  {
   "cell_type": "markdown",
   "source": [
    "## Merging datasets"
   ],
   "metadata": {
    "collapsed": false
   },
   "id": "4dc40cdb0b9eea86"
  },
  {
   "cell_type": "code",
   "outputs": [
    {
     "name": "stdout",
     "output_type": "stream",
     "text": [
      "movie_id and id are matched!\n"
     ]
    }
   ],
   "source": [
    "# Checking availability of datasets to merge\n",
    "if (credit_dataset['movie_id'] != movie_dataset['id']).any().sum() == 0:\n",
    "    print(\"movie_id and id are matched!\")\n",
    "    \n",
    "else:\n",
    "    print(\"movie_id and id are not matched! You have to consider some feature else\")"
   ],
   "metadata": {
    "collapsed": false,
    "ExecuteTime": {
     "end_time": "2024-03-17T05:39:42.157490Z",
     "start_time": "2024-03-17T05:39:42.153945Z"
    }
   },
   "id": "7b75e7283ef3498",
   "execution_count": 5
  },
  {
   "cell_type": "code",
   "outputs": [
    {
     "data": {
      "text/plain": "                                                                      0  \\\nmovie_id                                                          19995   \ntitle_movies                                                     Avatar   \ncast                  [{\"cast_id\": 242, \"character\": \"Jake Sully\", \"...   \ncrew                  [{\"credit_id\": \"52fe48009251416c750aca23\", \"de...   \nbudget                                                        237000000   \ngenres                [{\"id\": 28, \"name\": \"Action\"}, {\"id\": 12, \"nam...   \nhomepage                                    http://www.avatarmovie.com/   \nkeywords              [{\"id\": 1463, \"name\": \"culture clash\"}, {\"id\":...   \noriginal_language                                                    en   \noriginal_title                                                   Avatar   \noverview              In the 22nd century, a paraplegic Marine is di...   \npopularity                                                   150.437577   \nproduction_companies  [{\"name\": \"Ingenious Film Partners\", \"id\": 289...   \nproduction_countries  [{\"iso_3166_1\": \"US\", \"name\": \"United States o...   \nrelease_date                                                 2009-12-10   \nrevenue                                                      2787965087   \nruntime                                                           162.0   \nspoken_languages      [{\"iso_639_1\": \"en\", \"name\": \"English\"}, {\"iso...   \nstatus                                                         Released   \ntagline                                     Enter the World of Pandora.   \ntitle_credits                                                    Avatar   \nvote_average                                                        7.2   \nvote_count                                                        11800   \n\n                                                                      1  \\\nmovie_id                                                            285   \ntitle_movies                   Pirates of the Caribbean: At World's End   \ncast                  [{\"cast_id\": 4, \"character\": \"Captain Jack Spa...   \ncrew                  [{\"credit_id\": \"52fe4232c3a36847f800b579\", \"de...   \nbudget                                                        300000000   \ngenres                [{\"id\": 12, \"name\": \"Adventure\"}, {\"id\": 14, \"...   \nhomepage                   http://disney.go.com/disneypictures/pirates/   \nkeywords              [{\"id\": 270, \"name\": \"ocean\"}, {\"id\": 726, \"na...   \noriginal_language                                                    en   \noriginal_title                 Pirates of the Caribbean: At World's End   \noverview              Captain Barbossa, long believed to be dead, ha...   \npopularity                                                   139.082615   \nproduction_companies  [{\"name\": \"Walt Disney Pictures\", \"id\": 2}, {\"...   \nproduction_countries  [{\"iso_3166_1\": \"US\", \"name\": \"United States o...   \nrelease_date                                                 2007-05-19   \nrevenue                                                       961000000   \nruntime                                                           169.0   \nspoken_languages               [{\"iso_639_1\": \"en\", \"name\": \"English\"}]   \nstatus                                                         Released   \ntagline                  At the end of the world, the adventure begins.   \ntitle_credits                  Pirates of the Caribbean: At World's End   \nvote_average                                                        6.9   \nvote_count                                                         4500   \n\n                                                                      2  \\\nmovie_id                                                         206647   \ntitle_movies                                                    Spectre   \ncast                  [{\"cast_id\": 1, \"character\": \"James Bond\", \"cr...   \ncrew                  [{\"credit_id\": \"54805967c3a36829b5002c41\", \"de...   \nbudget                                                        245000000   \ngenres                [{\"id\": 28, \"name\": \"Action\"}, {\"id\": 12, \"nam...   \nhomepage                    http://www.sonypictures.com/movies/spectre/   \nkeywords              [{\"id\": 470, \"name\": \"spy\"}, {\"id\": 818, \"name...   \noriginal_language                                                    en   \noriginal_title                                                  Spectre   \noverview              A cryptic message from Bond’s past sends him o...   \npopularity                                                   107.376788   \nproduction_companies  [{\"name\": \"Columbia Pictures\", \"id\": 5}, {\"nam...   \nproduction_countries  [{\"iso_3166_1\": \"GB\", \"name\": \"United Kingdom\"...   \nrelease_date                                                 2015-10-26   \nrevenue                                                       880674609   \nruntime                                                           148.0   \nspoken_languages      [{\"iso_639_1\": \"fr\", \"name\": \"Fran\\u00e7ais\"},...   \nstatus                                                         Released   \ntagline                                           A Plan No One Escapes   \ntitle_credits                                                   Spectre   \nvote_average                                                        6.3   \nvote_count                                                         4466   \n\n                                                                      3  \\\nmovie_id                                                          49026   \ntitle_movies                                      The Dark Knight Rises   \ncast                  [{\"cast_id\": 2, \"character\": \"Bruce Wayne / Ba...   \ncrew                  [{\"credit_id\": \"52fe4781c3a36847f81398c3\", \"de...   \nbudget                                                        250000000   \ngenres                [{\"id\": 28, \"name\": \"Action\"}, {\"id\": 80, \"nam...   \nhomepage                             http://www.thedarkknightrises.com/   \nkeywords              [{\"id\": 849, \"name\": \"dc comics\"}, {\"id\": 853,...   \noriginal_language                                                    en   \noriginal_title                                    The Dark Knight Rises   \noverview              Following the death of District Attorney Harve...   \npopularity                                                    112.31295   \nproduction_companies  [{\"name\": \"Legendary Pictures\", \"id\": 923}, {\"...   \nproduction_countries  [{\"iso_3166_1\": \"US\", \"name\": \"United States o...   \nrelease_date                                                 2012-07-16   \nrevenue                                                      1084939099   \nruntime                                                           165.0   \nspoken_languages               [{\"iso_639_1\": \"en\", \"name\": \"English\"}]   \nstatus                                                         Released   \ntagline                                                 The Legend Ends   \ntitle_credits                                     The Dark Knight Rises   \nvote_average                                                        7.6   \nvote_count                                                         9106   \n\n                                                                      4  \nmovie_id                                                          49529  \ntitle_movies                                                John Carter  \ncast                  [{\"cast_id\": 5, \"character\": \"John Carter\", \"c...  \ncrew                  [{\"credit_id\": \"52fe479ac3a36847f813eaa3\", \"de...  \nbudget                                                        260000000  \ngenres                [{\"id\": 28, \"name\": \"Action\"}, {\"id\": 12, \"nam...  \nhomepage                           http://movies.disney.com/john-carter  \nkeywords              [{\"id\": 818, \"name\": \"based on novel\"}, {\"id\":...  \noriginal_language                                                    en  \noriginal_title                                              John Carter  \noverview              John Carter is a war-weary, former military ca...  \npopularity                                                    43.926995  \nproduction_companies        [{\"name\": \"Walt Disney Pictures\", \"id\": 2}]  \nproduction_countries  [{\"iso_3166_1\": \"US\", \"name\": \"United States o...  \nrelease_date                                                 2012-03-07  \nrevenue                                                       284139100  \nruntime                                                           132.0  \nspoken_languages               [{\"iso_639_1\": \"en\", \"name\": \"English\"}]  \nstatus                                                         Released  \ntagline                            Lost in our world, found in another.  \ntitle_credits                                               John Carter  \nvote_average                                                        6.1  \nvote_count                                                         2124  ",
      "text/html": "<div>\n<style scoped>\n    .dataframe tbody tr th:only-of-type {\n        vertical-align: middle;\n    }\n\n    .dataframe tbody tr th {\n        vertical-align: top;\n    }\n\n    .dataframe thead th {\n        text-align: right;\n    }\n</style>\n<table border=\"1\" class=\"dataframe\">\n  <thead>\n    <tr style=\"text-align: right;\">\n      <th></th>\n      <th>0</th>\n      <th>1</th>\n      <th>2</th>\n      <th>3</th>\n      <th>4</th>\n    </tr>\n  </thead>\n  <tbody>\n    <tr>\n      <th>movie_id</th>\n      <td>19995</td>\n      <td>285</td>\n      <td>206647</td>\n      <td>49026</td>\n      <td>49529</td>\n    </tr>\n    <tr>\n      <th>title_movies</th>\n      <td>Avatar</td>\n      <td>Pirates of the Caribbean: At World's End</td>\n      <td>Spectre</td>\n      <td>The Dark Knight Rises</td>\n      <td>John Carter</td>\n    </tr>\n    <tr>\n      <th>cast</th>\n      <td>[{\"cast_id\": 242, \"character\": \"Jake Sully\", \"...</td>\n      <td>[{\"cast_id\": 4, \"character\": \"Captain Jack Spa...</td>\n      <td>[{\"cast_id\": 1, \"character\": \"James Bond\", \"cr...</td>\n      <td>[{\"cast_id\": 2, \"character\": \"Bruce Wayne / Ba...</td>\n      <td>[{\"cast_id\": 5, \"character\": \"John Carter\", \"c...</td>\n    </tr>\n    <tr>\n      <th>crew</th>\n      <td>[{\"credit_id\": \"52fe48009251416c750aca23\", \"de...</td>\n      <td>[{\"credit_id\": \"52fe4232c3a36847f800b579\", \"de...</td>\n      <td>[{\"credit_id\": \"54805967c3a36829b5002c41\", \"de...</td>\n      <td>[{\"credit_id\": \"52fe4781c3a36847f81398c3\", \"de...</td>\n      <td>[{\"credit_id\": \"52fe479ac3a36847f813eaa3\", \"de...</td>\n    </tr>\n    <tr>\n      <th>budget</th>\n      <td>237000000</td>\n      <td>300000000</td>\n      <td>245000000</td>\n      <td>250000000</td>\n      <td>260000000</td>\n    </tr>\n    <tr>\n      <th>genres</th>\n      <td>[{\"id\": 28, \"name\": \"Action\"}, {\"id\": 12, \"nam...</td>\n      <td>[{\"id\": 12, \"name\": \"Adventure\"}, {\"id\": 14, \"...</td>\n      <td>[{\"id\": 28, \"name\": \"Action\"}, {\"id\": 12, \"nam...</td>\n      <td>[{\"id\": 28, \"name\": \"Action\"}, {\"id\": 80, \"nam...</td>\n      <td>[{\"id\": 28, \"name\": \"Action\"}, {\"id\": 12, \"nam...</td>\n    </tr>\n    <tr>\n      <th>homepage</th>\n      <td>http://www.avatarmovie.com/</td>\n      <td>http://disney.go.com/disneypictures/pirates/</td>\n      <td>http://www.sonypictures.com/movies/spectre/</td>\n      <td>http://www.thedarkknightrises.com/</td>\n      <td>http://movies.disney.com/john-carter</td>\n    </tr>\n    <tr>\n      <th>keywords</th>\n      <td>[{\"id\": 1463, \"name\": \"culture clash\"}, {\"id\":...</td>\n      <td>[{\"id\": 270, \"name\": \"ocean\"}, {\"id\": 726, \"na...</td>\n      <td>[{\"id\": 470, \"name\": \"spy\"}, {\"id\": 818, \"name...</td>\n      <td>[{\"id\": 849, \"name\": \"dc comics\"}, {\"id\": 853,...</td>\n      <td>[{\"id\": 818, \"name\": \"based on novel\"}, {\"id\":...</td>\n    </tr>\n    <tr>\n      <th>original_language</th>\n      <td>en</td>\n      <td>en</td>\n      <td>en</td>\n      <td>en</td>\n      <td>en</td>\n    </tr>\n    <tr>\n      <th>original_title</th>\n      <td>Avatar</td>\n      <td>Pirates of the Caribbean: At World's End</td>\n      <td>Spectre</td>\n      <td>The Dark Knight Rises</td>\n      <td>John Carter</td>\n    </tr>\n    <tr>\n      <th>overview</th>\n      <td>In the 22nd century, a paraplegic Marine is di...</td>\n      <td>Captain Barbossa, long believed to be dead, ha...</td>\n      <td>A cryptic message from Bond’s past sends him o...</td>\n      <td>Following the death of District Attorney Harve...</td>\n      <td>John Carter is a war-weary, former military ca...</td>\n    </tr>\n    <tr>\n      <th>popularity</th>\n      <td>150.437577</td>\n      <td>139.082615</td>\n      <td>107.376788</td>\n      <td>112.31295</td>\n      <td>43.926995</td>\n    </tr>\n    <tr>\n      <th>production_companies</th>\n      <td>[{\"name\": \"Ingenious Film Partners\", \"id\": 289...</td>\n      <td>[{\"name\": \"Walt Disney Pictures\", \"id\": 2}, {\"...</td>\n      <td>[{\"name\": \"Columbia Pictures\", \"id\": 5}, {\"nam...</td>\n      <td>[{\"name\": \"Legendary Pictures\", \"id\": 923}, {\"...</td>\n      <td>[{\"name\": \"Walt Disney Pictures\", \"id\": 2}]</td>\n    </tr>\n    <tr>\n      <th>production_countries</th>\n      <td>[{\"iso_3166_1\": \"US\", \"name\": \"United States o...</td>\n      <td>[{\"iso_3166_1\": \"US\", \"name\": \"United States o...</td>\n      <td>[{\"iso_3166_1\": \"GB\", \"name\": \"United Kingdom\"...</td>\n      <td>[{\"iso_3166_1\": \"US\", \"name\": \"United States o...</td>\n      <td>[{\"iso_3166_1\": \"US\", \"name\": \"United States o...</td>\n    </tr>\n    <tr>\n      <th>release_date</th>\n      <td>2009-12-10</td>\n      <td>2007-05-19</td>\n      <td>2015-10-26</td>\n      <td>2012-07-16</td>\n      <td>2012-03-07</td>\n    </tr>\n    <tr>\n      <th>revenue</th>\n      <td>2787965087</td>\n      <td>961000000</td>\n      <td>880674609</td>\n      <td>1084939099</td>\n      <td>284139100</td>\n    </tr>\n    <tr>\n      <th>runtime</th>\n      <td>162.0</td>\n      <td>169.0</td>\n      <td>148.0</td>\n      <td>165.0</td>\n      <td>132.0</td>\n    </tr>\n    <tr>\n      <th>spoken_languages</th>\n      <td>[{\"iso_639_1\": \"en\", \"name\": \"English\"}, {\"iso...</td>\n      <td>[{\"iso_639_1\": \"en\", \"name\": \"English\"}]</td>\n      <td>[{\"iso_639_1\": \"fr\", \"name\": \"Fran\\u00e7ais\"},...</td>\n      <td>[{\"iso_639_1\": \"en\", \"name\": \"English\"}]</td>\n      <td>[{\"iso_639_1\": \"en\", \"name\": \"English\"}]</td>\n    </tr>\n    <tr>\n      <th>status</th>\n      <td>Released</td>\n      <td>Released</td>\n      <td>Released</td>\n      <td>Released</td>\n      <td>Released</td>\n    </tr>\n    <tr>\n      <th>tagline</th>\n      <td>Enter the World of Pandora.</td>\n      <td>At the end of the world, the adventure begins.</td>\n      <td>A Plan No One Escapes</td>\n      <td>The Legend Ends</td>\n      <td>Lost in our world, found in another.</td>\n    </tr>\n    <tr>\n      <th>title_credits</th>\n      <td>Avatar</td>\n      <td>Pirates of the Caribbean: At World's End</td>\n      <td>Spectre</td>\n      <td>The Dark Knight Rises</td>\n      <td>John Carter</td>\n    </tr>\n    <tr>\n      <th>vote_average</th>\n      <td>7.2</td>\n      <td>6.9</td>\n      <td>6.3</td>\n      <td>7.6</td>\n      <td>6.1</td>\n    </tr>\n    <tr>\n      <th>vote_count</th>\n      <td>11800</td>\n      <td>4500</td>\n      <td>4466</td>\n      <td>9106</td>\n      <td>2124</td>\n    </tr>\n  </tbody>\n</table>\n</div>"
     },
     "execution_count": 6,
     "metadata": {},
     "output_type": "execute_result"
    }
   ],
   "source": [
    "df = credit_dataset.merge(movie_dataset, right_on=\"id\", left_on=\"movie_id\", suffixes=('_movies', '_credits'))\n",
    "df.drop([\"id\"], axis=1, inplace=True)\n",
    "df.head().T"
   ],
   "metadata": {
    "collapsed": false,
    "ExecuteTime": {
     "end_time": "2024-03-17T05:39:42.888742Z",
     "start_time": "2024-03-17T05:39:42.879344Z"
    }
   },
   "id": "ae8e785bc54fcfb",
   "execution_count": 6
  },
  {
   "cell_type": "code",
   "outputs": [
    {
     "name": "stdout",
     "output_type": "stream",
     "text": [
      "Final dataset contain 4803 rows and 23 columns\n",
      "=============================\n",
      "<class 'pandas.core.frame.DataFrame'>\n",
      "RangeIndex: 4803 entries, 0 to 4802\n",
      "Data columns (total 23 columns):\n",
      " #   Column                Non-Null Count  Dtype  \n",
      "---  ------                --------------  -----  \n",
      " 0   movie_id              4803 non-null   int64  \n",
      " 1   title_movies          4803 non-null   object \n",
      " 2   cast                  4803 non-null   object \n",
      " 3   crew                  4803 non-null   object \n",
      " 4   budget                4803 non-null   int64  \n",
      " 5   genres                4803 non-null   object \n",
      " 6   homepage              1712 non-null   object \n",
      " 7   keywords              4803 non-null   object \n",
      " 8   original_language     4803 non-null   object \n",
      " 9   original_title        4803 non-null   object \n",
      " 10  overview              4800 non-null   object \n",
      " 11  popularity            4803 non-null   float64\n",
      " 12  production_companies  4803 non-null   object \n",
      " 13  production_countries  4803 non-null   object \n",
      " 14  release_date          4802 non-null   object \n",
      " 15  revenue               4803 non-null   int64  \n",
      " 16  runtime               4801 non-null   float64\n",
      " 17  spoken_languages      4803 non-null   object \n",
      " 18  status                4803 non-null   object \n",
      " 19  tagline               3959 non-null   object \n",
      " 20  title_credits         4803 non-null   object \n",
      " 21  vote_average          4803 non-null   float64\n",
      " 22  vote_count            4803 non-null   int64  \n",
      "dtypes: float64(3), int64(4), object(16)\n",
      "memory usage: 863.2+ KB\n",
      "None\n"
     ]
    }
   ],
   "source": [
    "# Define shape of df and check missing values\n",
    "nrow, ncol = df.shape\n",
    "print(f\"Final dataset contain {nrow} rows and {ncol} columns\")\n",
    "print(\"=============================\")\n",
    "print(df.info())"
   ],
   "metadata": {
    "collapsed": false,
    "ExecuteTime": {
     "end_time": "2024-03-17T05:39:43.793793Z",
     "start_time": "2024-03-17T05:39:43.784559Z"
    }
   },
   "id": "2c2a592221578ba0",
   "execution_count": 7
  },
  {
   "cell_type": "code",
   "outputs": [
    {
     "name": "stdout",
     "output_type": "stream",
     "text": [
      "There is no duplicated value in dataset\n"
     ]
    }
   ],
   "source": [
    "# Check duplicated values\n",
    "\n",
    "df[\"movie_id\"] = df[\"movie_id\"].astype(str) # Change to str\n",
    "if df[\"movie_id\"].duplicated().sum() == 0:\n",
    "    print(\"There is no duplicated value in dataset\")\n",
    "    \n",
    "else:\n",
    "    print(f\"There are {df[\"movie_id\"].duplicated().sum()} duplicated movies!\")\n"
   ],
   "metadata": {
    "collapsed": false,
    "ExecuteTime": {
     "end_time": "2024-03-17T05:39:44.595304Z",
     "start_time": "2024-03-17T05:39:44.590590Z"
    }
   },
   "id": "4b32be8456299486",
   "execution_count": 8
  },
  {
   "cell_type": "code",
   "outputs": [],
   "source": [
    "# Handling missing values with replacing by average\n",
    "df[\"runtime\"].fillna(df[\"runtime\"].mean, inplace=True)"
   ],
   "metadata": {
    "collapsed": false,
    "ExecuteTime": {
     "end_time": "2024-03-17T05:39:47.881946Z",
     "start_time": "2024-03-17T05:39:47.878508Z"
    }
   },
   "id": "c2524512a61c32a4",
   "execution_count": 10
  },
  {
   "cell_type": "markdown",
   "source": [
    "## Extract data from JSON files"
   ],
   "metadata": {
    "collapsed": false
   },
   "id": "b53b2eb22ae79ccb"
  },
  {
   "cell_type": "code",
   "outputs": [],
   "source": [
    "# Convert to JSON\n",
    "def convert_json(df, columns):\n",
    "    for column in columns:\n",
    "        df[column] = df[column].apply(json.loads)\n",
    "    return df\n",
    "\n",
    "\n",
    "df = convert_json(\n",
    "    df,\n",
    "    [\"cast\", \"crew\", \"genres\", \"keywords\", \"production_companies\", \"production_countries\", \"spoken_languages\"]\n",
    ")\n"
   ],
   "metadata": {
    "collapsed": false,
    "ExecuteTime": {
     "end_time": "2024-03-17T05:39:49.847006Z",
     "start_time": "2024-03-17T05:39:49.584181Z"
    }
   },
   "id": "2b4dcfab388919b6",
   "execution_count": 11
  },
  {
   "cell_type": "code",
   "outputs": [
    {
     "name": "stdout",
     "output_type": "stream",
     "text": [
      "{'Avatar': ['Sam Worthington', 'Zoe Saldana']}\n"
     ]
    }
   ],
   "source": [
    "# Saving JSON to dataframe\n",
    "cast_dataset = {df[\"title_movies\"][0] : [df[\"cast\"][0][0].get(\"name\"), df[\"cast\"][0][1].get(\"name\")]}\n",
    "print(cast_dataset)"
   ],
   "metadata": {
    "collapsed": false,
    "ExecuteTime": {
     "end_time": "2024-03-17T05:44:18.522173Z",
     "start_time": "2024-03-17T05:44:18.518939Z"
    }
   },
   "id": "da1e06e6d3e5320a",
   "execution_count": 21
  },
  {
   "cell_type": "code",
   "outputs": [
    {
     "name": "stdout",
     "output_type": "stream",
     "text": [
      "{'Avatar': ['Sam Worthington', 'Zoe Saldana'], \"Pirates of the Caribbean: At World's End\": ['Johnny Depp', 'Orlando Bloom']}\n"
     ]
    }
   ],
   "source": [
    "\n",
    "cast_dataset.update({df[\"title_movies\"][1] : [df[\"cast\"][1][0].get(\"name\"), df[\"cast\"][1][1].get(\"name\")]})\n",
    "print(cast_dataset)"
   ],
   "metadata": {
    "collapsed": false,
    "ExecuteTime": {
     "end_time": "2024-03-17T05:46:55.955325Z",
     "start_time": "2024-03-17T05:46:55.952179Z"
    }
   },
   "id": "e112b611a18b8e33",
   "execution_count": 23
  },
  {
   "cell_type": "code",
   "outputs": [],
   "source": [
    "# Create cast dataset\n",
    "\n",
    "cast_dataset = dict()\n",
    "for i in range(len(df[\"title_movies\"])):\n",
    "    cast_dataset.update({df[\"title_movies\"][i] : [df[\"cast\"][i][j].get(\"name\") for j in range(len(df[\"cast\"][i]))]})"
   ],
   "metadata": {
    "collapsed": false,
    "ExecuteTime": {
     "end_time": "2024-03-17T07:11:35.646438Z",
     "start_time": "2024-03-17T07:11:35.436534Z"
    }
   },
   "id": "e4550818755ed043",
   "execution_count": 66
  },
  {
   "cell_type": "code",
   "outputs": [],
   "source": [
    "# Create genres dataset\n",
    "\n",
    "genres_dataset = dict()\n",
    "for i in range(len(df[\"title_movies\"])):\n",
    "    genres_dataset.update({df[\"title_movies\"][i] : [df[\"genres\"][i][j].get(\"name\") for j in range(len(df[\"genres\"][i]))]}) "
   ],
   "metadata": {
    "collapsed": false,
    "ExecuteTime": {
     "end_time": "2024-03-17T07:11:36.867118Z",
     "start_time": "2024-03-17T07:11:36.823532Z"
    }
   },
   "id": "c157fd26cd400e87",
   "execution_count": 67
  },
  {
   "cell_type": "code",
   "outputs": [],
   "source": [
    "# Create keywords dataset\n",
    "\n",
    "keywords_dataset = dict()\n",
    "for i in range(len(df[\"title_movies\"])):\n",
    "    keywords_dataset.update({df[\"title_movies\"][i] : [df[\"keywords\"][i][j].get(\"name\") for j in range(len(df[\"keywords\"][i]))]}) "
   ],
   "metadata": {
    "collapsed": false,
    "ExecuteTime": {
     "end_time": "2024-03-17T07:11:38.350227Z",
     "start_time": "2024-03-17T07:11:38.267359Z"
    }
   },
   "id": "56aff8f19440eb42",
   "execution_count": 68
  },
  {
   "cell_type": "code",
   "outputs": [],
   "source": [
    "# Create production company dataset\n",
    "    \n",
    "production_companies_dataset = dict()\n",
    "for i in range(len(df[\"title_movies\"])):\n",
    "    production_companies_dataset.update({df[\"title_movies\"][i] : [df[\"production_companies\"][i][j].get(\"name\") for j in range(len(df[\"production_companies\"][i]))]}) "
   ],
   "metadata": {
    "collapsed": false,
    "ExecuteTime": {
     "end_time": "2024-03-17T07:11:40.267015Z",
     "start_time": "2024-03-17T07:11:40.220243Z"
    }
   },
   "id": "fd2ff61449b7e9ca",
   "execution_count": 69
  },
  {
   "cell_type": "code",
   "outputs": [],
   "source": [
    "# Create production countries dataset\n",
    "    \n",
    "production_countries_dataset = dict()\n",
    "for i in range(len(df[\"title_movies\"])):\n",
    "    production_countries_dataset.update({df[\"title_movies\"][i] : [df[\"production_countries\"][i][j].get(\"name\") for j in range(len(df[\"production_countries\"][i]))]})"
   ],
   "metadata": {
    "collapsed": false,
    "ExecuteTime": {
     "end_time": "2024-03-17T07:13:22.081804Z",
     "start_time": "2024-03-17T07:13:22.046967Z"
    }
   },
   "id": "b8e8cd54f28b1f09",
   "execution_count": 70
  },
  {
   "cell_type": "code",
   "outputs": [],
   "source": [
    "# Create spoken language dataset\n",
    "\n",
    "spoken_languages_dataset = dict()\n",
    "for i in range(len(df[\"title_movies\"])):\n",
    "    spoken_languages_dataset.update({df[\"title_movies\"][i] : [df[\"spoken_languages\"][i][j].get(\"name\") for j in range(len(df[\"spoken_languages\"][i]))]})"
   ],
   "metadata": {
    "collapsed": false,
    "ExecuteTime": {
     "end_time": "2024-03-17T07:14:19.189744Z",
     "start_time": "2024-03-17T07:14:19.156216Z"
    }
   },
   "id": "91a578f158d234db",
   "execution_count": 71
  },
  {
   "cell_type": "markdown",
   "source": [
    "## Visualiazation"
   ],
   "metadata": {
    "collapsed": false
   },
   "id": "1273ee9654637a9b"
  },
  {
   "cell_type": "code",
   "outputs": [
    {
     "data": {
      "text/plain": "               title_movies  vote_count  vote_average\n3519       Stiff Upper Lips           1          10.0\n4247  Me You and Five Bucks           2          10.0\n4045  Dancer, Texas Pop. 81           1          10.0\n4662         Little Big Top           1          10.0\n3992              Sardaarji           2           9.5\n...                     ...         ...           ...\n3960           The Deported           0           0.0\n4684         American Beast           0           0.0\n3967    Four Single Fathers           0           0.0\n4486       Naturally Native           0           0.0\n4458    Harrison Montgomery           0           0.0\n\n[4803 rows x 3 columns]",
      "text/html": "<div>\n<style scoped>\n    .dataframe tbody tr th:only-of-type {\n        vertical-align: middle;\n    }\n\n    .dataframe tbody tr th {\n        vertical-align: top;\n    }\n\n    .dataframe thead th {\n        text-align: right;\n    }\n</style>\n<table border=\"1\" class=\"dataframe\">\n  <thead>\n    <tr style=\"text-align: right;\">\n      <th></th>\n      <th>title_movies</th>\n      <th>vote_count</th>\n      <th>vote_average</th>\n    </tr>\n  </thead>\n  <tbody>\n    <tr>\n      <th>3519</th>\n      <td>Stiff Upper Lips</td>\n      <td>1</td>\n      <td>10.0</td>\n    </tr>\n    <tr>\n      <th>4247</th>\n      <td>Me You and Five Bucks</td>\n      <td>2</td>\n      <td>10.0</td>\n    </tr>\n    <tr>\n      <th>4045</th>\n      <td>Dancer, Texas Pop. 81</td>\n      <td>1</td>\n      <td>10.0</td>\n    </tr>\n    <tr>\n      <th>4662</th>\n      <td>Little Big Top</td>\n      <td>1</td>\n      <td>10.0</td>\n    </tr>\n    <tr>\n      <th>3992</th>\n      <td>Sardaarji</td>\n      <td>2</td>\n      <td>9.5</td>\n    </tr>\n    <tr>\n      <th>...</th>\n      <td>...</td>\n      <td>...</td>\n      <td>...</td>\n    </tr>\n    <tr>\n      <th>3960</th>\n      <td>The Deported</td>\n      <td>0</td>\n      <td>0.0</td>\n    </tr>\n    <tr>\n      <th>4684</th>\n      <td>American Beast</td>\n      <td>0</td>\n      <td>0.0</td>\n    </tr>\n    <tr>\n      <th>3967</th>\n      <td>Four Single Fathers</td>\n      <td>0</td>\n      <td>0.0</td>\n    </tr>\n    <tr>\n      <th>4486</th>\n      <td>Naturally Native</td>\n      <td>0</td>\n      <td>0.0</td>\n    </tr>\n    <tr>\n      <th>4458</th>\n      <td>Harrison Montgomery</td>\n      <td>0</td>\n      <td>0.0</td>\n    </tr>\n  </tbody>\n</table>\n<p>4803 rows × 3 columns</p>\n</div>"
     },
     "execution_count": 78,
     "metadata": {},
     "output_type": "execute_result"
    }
   ],
   "source": [
    "df.sort_values(by=[\"vote_average\"], ascending=False)[[\"title_movies\", \"vote_count\", \"vote_average\"]] "
   ],
   "metadata": {
    "collapsed": false,
    "ExecuteTime": {
     "end_time": "2024-03-17T08:59:27.825850Z",
     "start_time": "2024-03-17T08:59:27.817582Z"
    }
   },
   "id": "c8078e2f314fa392",
   "execution_count": 78
  },
  {
   "cell_type": "markdown",
   "source": [
    "It seems is not accurate, because the highest score is Stiff Upper Lips with one vote (LOL)\n",
    "\n",
    "It needs to recalculate with weighted average"
   ],
   "metadata": {
    "collapsed": false
   },
   "id": "67a40ed83a2e3b38"
  },
  {
   "cell_type": "code",
   "outputs": [],
   "source": [
    "# Calculation with IMDB formula\n",
    "def weight_average(data, q = df[\"vote_count\"].quantile(0.9), mean = df[\"vote_average\"].mean()):\n",
    "    vote_count = data[\"vote_count\"]\n",
    "    vote_average = data[\"vote_average\"]\n",
    "    \n",
    "    return (vote_count / (vote_count + q) * vote_average) + (q / (q + vote_count) * mean)\n",
    "    \n",
    "   "
   ],
   "metadata": {
    "collapsed": false,
    "ExecuteTime": {
     "end_time": "2024-03-17T09:21:37.973351Z",
     "start_time": "2024-03-17T09:21:37.969347Z"
    }
   },
   "id": "46e80893a4c31192",
   "execution_count": 86
  },
  {
   "cell_type": "markdown",
   "source": [
    "![image info](./img/weight_average.png)"
   ],
   "metadata": {
    "collapsed": false
   },
   "id": "bc12ca1dc7d050df"
  },
  {
   "cell_type": "code",
   "outputs": [],
   "source": [
    "df[\"score\"] = df.apply(weight_average, axis=1)"
   ],
   "metadata": {
    "collapsed": false,
    "ExecuteTime": {
     "end_time": "2024-03-17T09:15:23.347720Z",
     "start_time": "2024-03-17T09:15:23.324697Z"
    }
   },
   "id": "71939c95aeef957e",
   "execution_count": 82
  },
  {
   "cell_type": "code",
   "outputs": [
    {
     "data": {
      "text/plain": "                                       title_movies  vote_count  vote_average  \\\n1881                       The Shawshank Redemption        8205           8.5   \n662                                      Fight Club        9413           8.3   \n65                                  The Dark Knight       12002           8.2   \n3232                                   Pulp Fiction        8428           8.3   \n96                                        Inception       13752           8.1   \n3337                                  The Godfather        5893           8.4   \n95                                     Interstellar       10867           8.1   \n809                                    Forrest Gump        7927           8.2   \n329   The Lord of the Rings: The Return of the King        8064           8.1   \n1990                        The Empire Strikes Back        5879           8.2   \n\n         score  \n1881  8.059258  \n662   7.939256  \n65    7.920020  \n3232  7.904645  \n96    7.863239  \n3337  7.851236  \n95    7.809479  \n809   7.803188  \n329   7.727243  \n1990  7.697884  ",
      "text/html": "<div>\n<style scoped>\n    .dataframe tbody tr th:only-of-type {\n        vertical-align: middle;\n    }\n\n    .dataframe tbody tr th {\n        vertical-align: top;\n    }\n\n    .dataframe thead th {\n        text-align: right;\n    }\n</style>\n<table border=\"1\" class=\"dataframe\">\n  <thead>\n    <tr style=\"text-align: right;\">\n      <th></th>\n      <th>title_movies</th>\n      <th>vote_count</th>\n      <th>vote_average</th>\n      <th>score</th>\n    </tr>\n  </thead>\n  <tbody>\n    <tr>\n      <th>1881</th>\n      <td>The Shawshank Redemption</td>\n      <td>8205</td>\n      <td>8.5</td>\n      <td>8.059258</td>\n    </tr>\n    <tr>\n      <th>662</th>\n      <td>Fight Club</td>\n      <td>9413</td>\n      <td>8.3</td>\n      <td>7.939256</td>\n    </tr>\n    <tr>\n      <th>65</th>\n      <td>The Dark Knight</td>\n      <td>12002</td>\n      <td>8.2</td>\n      <td>7.920020</td>\n    </tr>\n    <tr>\n      <th>3232</th>\n      <td>Pulp Fiction</td>\n      <td>8428</td>\n      <td>8.3</td>\n      <td>7.904645</td>\n    </tr>\n    <tr>\n      <th>96</th>\n      <td>Inception</td>\n      <td>13752</td>\n      <td>8.1</td>\n      <td>7.863239</td>\n    </tr>\n    <tr>\n      <th>3337</th>\n      <td>The Godfather</td>\n      <td>5893</td>\n      <td>8.4</td>\n      <td>7.851236</td>\n    </tr>\n    <tr>\n      <th>95</th>\n      <td>Interstellar</td>\n      <td>10867</td>\n      <td>8.1</td>\n      <td>7.809479</td>\n    </tr>\n    <tr>\n      <th>809</th>\n      <td>Forrest Gump</td>\n      <td>7927</td>\n      <td>8.2</td>\n      <td>7.803188</td>\n    </tr>\n    <tr>\n      <th>329</th>\n      <td>The Lord of the Rings: The Return of the King</td>\n      <td>8064</td>\n      <td>8.1</td>\n      <td>7.727243</td>\n    </tr>\n    <tr>\n      <th>1990</th>\n      <td>The Empire Strikes Back</td>\n      <td>5879</td>\n      <td>8.2</td>\n      <td>7.697884</td>\n    </tr>\n  </tbody>\n</table>\n</div>"
     },
     "execution_count": 85,
     "metadata": {},
     "output_type": "execute_result"
    }
   ],
   "source": [
    "df.sort_values(by=[\"score\"], ascending=False)[[\"title_movies\", \"vote_count\", \"vote_average\", \"score\"]].head(10)"
   ],
   "metadata": {
    "collapsed": false,
    "ExecuteTime": {
     "end_time": "2024-03-17T09:17:13.076262Z",
     "start_time": "2024-03-17T09:17:13.067680Z"
    }
   },
   "id": "35d04bcb58bf256e",
   "execution_count": 85
  },
  {
   "cell_type": "markdown",
   "source": [
    "### Popularity"
   ],
   "metadata": {
    "collapsed": false
   },
   "id": "60c2572df2619378"
  },
  {
   "cell_type": "code",
   "outputs": [
    {
     "data": {
      "text/plain": "<Figure size 1200x600 with 1 Axes>",
      "image/png": "[encoded data removed]"
     },
     "metadata": {},
     "output_type": "display_data"
    }
   ],
   "source": [
    "# Sort dataframe based on popularity\n",
    "popularity = df.sort_values(by=[\"popularity\"], ascending=False)\n",
    "\n",
    "# Plot top 5 popular movies\n",
    "plt.figure(figsize=(12, 6))\n",
    "plt.bar(popularity[\"title_movies\"].head(5), popularity[\"popularity\"].head(5), align=\"center\", width=0.5, color=\"lightblue\")\n",
    "plt.xlabel(\"Movie names\")\n",
    "plt.ylabel(\"Popularity\")\n",
    "plt.title(\"Popular movies\")\n",
    "plt.show()"
   ],
   "metadata": {
    "collapsed": false,
    "ExecuteTime": {
     "end_time": "2024-03-17T09:43:40.758229Z",
     "start_time": "2024-03-17T09:43:40.692784Z"
    }
   },
   "id": "bfc23918922cf594",
   "execution_count": 92
  },
  {
   "cell_type": "markdown",
   "source": [
    "## Machine learning"
   ],
   "metadata": {
    "collapsed": false
   },
   "id": "2b3b9dcc6c001efd"
  },
  {
   "cell_type": "code",
   "outputs": [],
   "source": [],
   "metadata": {
    "collapsed": false
   },
   "id": "271228e5277ec07c"
  }
 ],
 "metadata": {
  "kernelspec": {
   "display_name": "Python 3",
   "language": "python",
   "name": "python3"
  },
  "language_info": {
   "codemirror_mode": {
    "name": "ipython",
    "version": 2
   },
   "file_extension": ".py",
   "mimetype": "text/x-python",
   "name": "python",
   "nbconvert_exporter": "python",
   "pygments_lexer": "ipython2",
   "version": "2.7.6"
  }
 },
 "nbformat": 4,
 "nbformat_minor": 5
}
